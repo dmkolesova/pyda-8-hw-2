{
 "cells": [
  {
   "cell_type": "markdown",
   "metadata": {},
   "source": [
    "**Задание 1**. Даны 2 строки: *long_phrase* и *short_phrase*. \n",
    "Напишите код, который проверяет действительно ли длинная фраза *long_phrase* длиннее короткой *short_phrase*. И выводит *True* или *False* в зависимости от результата сравнения."
   ]
  },
  {
   "cell_type": "code",
   "execution_count": 5,
   "metadata": {},
   "outputs": [],
   "source": [
    "long_phrase = 'Насколько проще было бы писать программы, если бы не заказчики'\n",
    "short_phrase = '640Кб должно хватить для любых задач. Билл Гейтс (по легенде)'"
   ]
  },
  {
   "cell_type": "code",
   "execution_count": 6,
   "metadata": {},
   "outputs": [
    {
     "name": "stdout",
     "output_type": "stream",
     "text": [
      "True\n"
     ]
    }
   ],
   "source": [
    "if len(long_phrase) > len(short_phrase):\n",
    "    print (True)\n",
    "else:\n",
    "    print(False)"
   ]
  },
  {
   "cell_type": "markdown",
   "metadata": {},
   "source": [
    "**Задание 2**. Дано значение объема файла в байтах (*в мегабайте 2^20 байт*). Напишите перевод этого значения в мегабайты в формате: \"*Объем файла равен 213.68Mb*\"."
   ]
  },
  {
   "cell_type": "code",
   "execution_count": 12,
   "metadata": {},
   "outputs": [
    {
     "name": "stdout",
     "output_type": "stream",
     "text": [
      "Введите объем файла в байтах: 512\n",
      "Объем файла равен  0.00048828125 Mb\n"
     ]
    }
   ],
   "source": [
    "file_size = int(input(\"Введите объем файла в байтах: \"))\n",
    "print(\"Объем файла равен \", file_size/(2**20),\"Mb\")"
   ]
  },
  {
   "cell_type": "markdown",
   "metadata": {},
   "source": [
    "**Задание 3**. Разработать приложение для определения знака зодиака по дате рождения. Пример:\n",
    "\n",
    "Введите месяц: март\n",
    "\n",
    "Введите число: 6\n",
    "\n",
    "Вывод:\n",
    "Рыбы"
   ]
  },
  {
   "cell_type": "code",
   "execution_count": 42,
   "metadata": {},
   "outputs": [
    {
     "name": "stdout",
     "output_type": "stream",
     "text": [
      "Введите месяц (число от 1 до 12): 11\n",
      "Введите день (число от 1 до 31): 9\n",
      "Дата рождения: 9 November\n",
      "Ваш знак зодиака:  Скорпион\n"
     ]
    }
   ],
   "source": [
    "import calendar\n",
    "try:\n",
    "    month_input = int(input('Введите месяц (число от 1 до 12): '))\n",
    "    day_input = int(input('Введите день (число от 1 до 31): '))\n",
    "except:\n",
    "    print('Ошибка! Введите целое число.')\n",
    "zodiac_sign = ''\n",
    "if (month_input < 1 or month_input > 12) or (day_input < 1 or day_input > 31):\n",
    "    print('Некорректная дата')\n",
    "elif (month_input == 3 and 21 <= day_input <= 31) or (month_input == 4 and 1 <= day_input <= 20):\n",
    "    zodiac_sign = 'Овен'\n",
    "elif (month_input == 4 and 21 <= day_input <= 31) or (month_input == 5 and 1 <= day_input <= 21):\n",
    "    zodiac_sign = 'Телец'\n",
    "elif (month_input == 5 and 22 <= day_input <= 31) or (month_input == 6 and 1 <= day_input <= 21):\n",
    "    zodiac_sign = 'Близнецы'\n",
    "elif (month_input == 6 and 22 <= day_input <= 31) or (month_input == 7 and 1 <= day_input <= 22):\n",
    "    zodiac_sign = 'Рак'\n",
    "elif (month_input == 7 and 23 <= day_input <= 31) or (month_input == 8 and 1 <= day_input <= 23):\n",
    "    zodiac_sign = 'Лев'\n",
    "elif (month_input == 8 and 24 <= day_input <= 31) or (month_input == 9 and 1 <= day_input <= 23):\n",
    "    zodiac_sign = 'Дева'\n",
    "elif (month_input == 9 and 24 <= day_input <= 31) or (month_input == 10 and 1 <= day_input <= 23):\n",
    "    zodiac_sign = 'Весы'\n",
    "elif (month_input == 10 and 24 <= day_input <= 31) or (month_input == 11 and 1 <= day_input <= 22):\n",
    "    zodiac_sign = 'Скорпион'\n",
    "elif (month_input == 11 and 23 <= day_input <= 31) or (month_input == 12 and 1 <= day_input <= 22):\n",
    "    zodiac_sign = 'Стрелец'\n",
    "elif (month_input == 12 and 23 <= day_input <= 31) or (month_input == 1 and 1 <= day_input <= 20):\n",
    "    zodiac_sign = 'Козерог'\n",
    "elif (month_input == 1 and 21 <= day_input <= 31) or (month_input == 2 and 1 <= day_input <= 19):\n",
    "    zodiac_sign = 'Водолей'\n",
    "elif (month_input == 2 and 20 <= day_input <= 31) or (month_input == 3 and 1 <= day_input <= 20):\n",
    "    zodiac_sign = 'Рыбы'    \n",
    "else:\n",
    "    zodiac_sign = '404'\n",
    "print('Дата рождения:', day_input,calendar.month_name[month_input])\n",
    "print('Ваш знак зодиака: ', zodiac_sign)"
   ]
  },
  {
   "cell_type": "markdown",
   "metadata": {},
   "source": [
    "**Задание 4**. Нужно разработать приложение для финансового планирования.\n",
    "Приложение учитывает сколько уходит на ипотеку, \"на жизнь\" и сколько нужно отложить на пенсию.\n",
    "Пользователь вводит:\n",
    "- заработанную плату в месяц.\n",
    "- сколько процентов от ЗП уходит на ипотеку.\n",
    "- сколько процентов от ЗП уходит \"на жизнь\".\n",
    "- сколько раз приходит премия в год.\n",
    "\n",
    "Остальная часть заработанной платы откладывается на пенсию.\n",
    "\n",
    "Также пользователю приходит премия в размере зарплаты, от которой половина уходит на отпуск, а вторая половина откладывается.\n",
    "\n",
    "Программа должна учитывать сколько премий было в год.\n",
    "\n",
    "Нужно вывести сколько денег тратит пользователь на ипотеку и сколько он накопит за год.\n",
    "\n",
    "Пример:\n",
    "\n",
    "Введите заработанную плату в месяц: 100000\n",
    "\n",
    "Введите сколько процентов уходит на ипотеку: 30\n",
    "\n",
    "Введите сколько процентов уходит на жизнь: 50\n",
    "\n",
    "Введите количество премий за год: 2\n",
    "\n",
    "Вывод:\n",
    "На ипотеку было потрачено: 360000 рублей\n",
    "Было накоплено: 340000 рублей"
   ]
  },
  {
   "cell_type": "code",
   "execution_count": 47,
   "metadata": {},
   "outputs": [
    {
     "name": "stdout",
     "output_type": "stream",
     "text": [
      "Введите заработанную плату в месяц (целое число): 100000\n",
      "Введите сколько процентов уходит на ипотеку (целое число): 30\n",
      "Введите сколько процентов уходит на жизнь (целое число). Вы можете ввести число от 0 до 7050\n",
      "Введите количество премий за год (целое число, если премий нет введите 0): 2\n",
      "На ипотеку было потрачено:  360000.0  рублей\n",
      "Было накоплено:  340000.0  рублей\n"
     ]
    }
   ],
   "source": [
    "try:\n",
    "    salary_input = int(input('Введите заработанную плату в месяц (целое число): '))\n",
    "    mortgage_proc_input = int(input('Введите сколько процентов уходит на ипотеку (целое число): '))\n",
    "    living_proc_input = int(input('Введите сколько процентов уходит на жизнь (целое число). Вы можете ввести число от '+'0'\\\n",
    "                                 +' до '+ str(100-mortgage_proc_input)))\n",
    "    num_of_bonus_per_year_input = int(input('Введите количество премий за год (целое число, если премий нет введите 0): '))\n",
    "except ValueError:\n",
    "    print('Ошибка! Введите целое число.')\n",
    "\n",
    "mortgage_total = salary_input * (mortgage_proc_input/100) * 12\n",
    "living_total = salary_input * (living_proc_input/100) * 12\n",
    "bonus_total = salary_input * num_of_bonus_per_year_input\n",
    "vacation_total = bonus_total/2\n",
    "savings_total = (salary_input * 12 + bonus_total) - mortgage_total - living_total - vacation_total\n",
    "print('На ипотеку было потрачено: ', mortgage_total, ' рублей')\n",
    "print('Было накоплено: ', savings_total, ' рублей')"
   ]
  }
 ],
 "metadata": {
  "kernelspec": {
   "display_name": "Python 3",
   "language": "python",
   "name": "python3"
  },
  "language_info": {
   "codemirror_mode": {
    "name": "ipython",
    "version": 3
   },
   "file_extension": ".py",
   "mimetype": "text/x-python",
   "name": "python",
   "nbconvert_exporter": "python",
   "pygments_lexer": "ipython3",
   "version": "3.7.4"
  }
 },
 "nbformat": 4,
 "nbformat_minor": 2
}
